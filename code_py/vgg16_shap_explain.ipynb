{
  "cells": [
    {
      "cell_type": "code",
      "source": [
        "import numpy as np\n",
        "import pandas as pd\n",
        "import shap\n",
        "import os, fnmatch\n",
        "import matplotlib.pyplot as plt\n",
        "\n",
        "import keras\n",
        "from keras_preprocessing.image import ImageDataGenerator\n",
        "from keras.models import load_model"
      ],
      "outputs": [],
      "execution_count": null,
      "metadata": {}
    },
    {
      "cell_type": "code",
      "source": [
        "# Matplotlib in jupyter\n",
        "%pylab inline\n",
        "pylab.rcParams['figure.figsize'] = (12, 10)"
      ],
      "outputs": [],
      "execution_count": null,
      "metadata": {}
    },
    {
      "cell_type": "markdown",
      "source": [
        "### Load fine-tuned model\n",
        "from `vgg_finetuning.py`"
      ],
      "metadata": {
        "collapsed": false,
        "outputHidden": false,
        "inputHidden": false
      }
    },
    {
      "cell_type": "code",
      "source": [
        "# Load saved model incl. weights\n",
        "model_final = load_model('2019-03-19_model_final.h5')"
      ],
      "outputs": [],
      "execution_count": null,
      "metadata": {}
    },
    {
      "cell_type": "code",
      "source": [
        "# Take a look at the model architecture\n",
        "model_final.summary()"
      ],
      "outputs": [],
      "execution_count": null,
      "metadata": {}
    },
    {
      "cell_type": "markdown",
      "source": [
        "### Load data"
      ],
      "metadata": {
        "collapsed": false,
        "outputHidden": false,
        "inputHidden": false
      }
    },
    {
      "cell_type": "code",
      "source": [
        "# Load data\n",
        "df_train = pd.read_pickle('/home/fabianmueller/pet_finder/data/prepared/train.pkl')\n",
        "\n",
        "# Settings\n",
        "BATCH_SIZE = 64\n",
        "\n",
        "# Path and files\n",
        "train_images_path = '/home/fabianmueller/pet_finder/data/raw/images/train_images'\n",
        "train_images = fnmatch.filter(os.listdir(train_images_path), '*.jpg')\n",
        "\n",
        "# Make binary target\n",
        "target = 'adoptionspeed_bin'\n",
        "df_train.loc[:, target] = np.where(df_train.loc[:, 'adoptionspeed'] <= 2, 'adopted', 'not_adopted')\n",
        "\n",
        "# Create dict with id and target class\n",
        "name_target_dict = df_train.set_index('petid')['adoptionspeed_bin'].to_dict()\n",
        "\n",
        "# Empty dict for generator\n",
        "dict_generator = {'filename': [], 'class': []}\n",
        "\n",
        "# Go through images and save in generator dict\n",
        "for name in train_images:\n",
        "    short_name = name.split('-')[0]\n",
        "    label = name_target_dict[short_name]\n",
        "\n",
        "    dict_generator['filename'].append(name)\n",
        "    dict_generator['class'].append(label)\n",
        "\n",
        "# Convert dict to pd.DataFrame\n",
        "df_generator = pd.DataFrame(dict_generator)\n",
        "\n",
        "# Create generator with rescaling\n",
        "data_gen = ImageDataGenerator(rescale=1. / 255)\n",
        "\n",
        "# Training generator\n",
        "train_generator = data_gen.flow_from_dataframe(dataframe=df_generator,\n",
        "                                               directory=train_images_path,\n",
        "                                               x_col='filename',\n",
        "                                               y_col='class',\n",
        "                                               target_size=(224, 224),\n",
        "                                               class_mode='categorical',\n",
        "                                               shuffle=True,\n",
        "                                               batch_size=BATCH_SIZE)"
      ],
      "outputs": [],
      "execution_count": null,
      "metadata": {}
    },
    {
      "cell_type": "markdown",
      "source": [
        "### Prepare examples for model interpretation"
      ],
      "metadata": {
        "collapsed": false,
        "outputHidden": false,
        "inputHidden": false
      }
    },
    {
      "cell_type": "code",
      "source": [
        "# Use this files as examples\n",
        "examples = ['f394d4aad-5.jpg', 'd71310023-2.jpg', '1c92ce464-5.jpg']"
      ],
      "outputs": [],
      "execution_count": null,
      "metadata": {
        "collapsed": false,
        "outputHidden": false,
        "inputHidden": false
      }
    },
    {
      "cell_type": "code",
      "source": [
        "# Define background examples to take an expectation over\n",
        "one_batch = train_generator.next()\n",
        "background = one_batch[0]\n",
        "background.shape"
      ],
      "outputs": [],
      "execution_count": null,
      "metadata": {
        "collapsed": false,
        "outputHidden": false,
        "inputHidden": false
      }
    },
    {
      "cell_type": "code",
      "source": [
        "# Define some helper functions\n",
        "\n",
        "def get_example_batch(filename):\n",
        "    '''\n",
        "    Function for getting one file as batch from generator\n",
        "    '''\n",
        "    row = df_generator.loc[df_generator['filename'] == filename]\n",
        "    \n",
        "    gen = data_gen.flow_from_dataframe(dataframe=row,\n",
        "                                       directory=train_images_path,\n",
        "                                       x_col='filename',\n",
        "                                       y_col='class',\n",
        "                                       target_size=(224, 224),\n",
        "                                       class_mode='categorical',\n",
        "                                       shuffle=False,\n",
        "                                       batch_size=1)\n",
        "    \n",
        "    batch = gen.next()\n",
        "    return batch[0]\n",
        "\n",
        "def map2layer(x, layer):\n",
        "    '''\n",
        "    Function for getting predictions from model for specific layer\n",
        "    '''\n",
        "    feed_dict = dict(zip([model_final.layers[0].input], [x.copy()]))\n",
        "    return keras.backend.get_session().run(model_final.layers[layer].input, feed_dict)\n",
        "\n",
        "def explain_and_plot(filename, layer):\n",
        "    '''\n",
        "    Function for getting explanations via shap values (for some layer)\n",
        "    '''\n",
        "    explain_me = get_example_batch(filename)\n",
        "    \n",
        "    e = shap.GradientExplainer(model=(model_final.layers[layer].input, model_final.layers[-1].output), \n",
        "                               data=map2layer(background.copy(), layer))\n",
        "    \n",
        "    shap_values, indexes = e.shap_values(map2layer(explain_me, layer), ranked_outputs=1)\n",
        "    \n",
        "    shap.image_plot(shap_values, explain_me)"
      ],
      "outputs": [],
      "execution_count": null,
      "metadata": {
        "collapsed": false,
        "outputHidden": false,
        "inputHidden": false
      }
    },
    {
      "cell_type": "code",
      "source": [
        "# Explain Kat\n",
        "explain_and_plot(examples[0], layer=7)"
      ],
      "outputs": [],
      "execution_count": null,
      "metadata": {
        "collapsed": false,
        "outputHidden": false,
        "inputHidden": false
      }
    },
    {
      "cell_type": "code",
      "source": [
        "# Explain Danny\n",
        "explain_and_plot(examples[1], layer=7)"
      ],
      "outputs": [],
      "execution_count": null,
      "metadata": {
        "collapsed": false,
        "outputHidden": false,
        "inputHidden": false
      }
    },
    {
      "cell_type": "code",
      "source": [
        "# Explain Beauty\n",
        "explain_and_plot(examples[2], layer=7)"
      ],
      "outputs": [],
      "execution_count": null,
      "metadata": {
        "collapsed": false,
        "outputHidden": false,
        "inputHidden": false
      }
    }
  ],
  "metadata": {
    "kernelspec": {
      "name": "python3",
      "language": "python",
      "display_name": "Python 3"
    },
    "language_info": {
      "name": "python",
      "version": "3.6.5",
      "mimetype": "text/x-python",
      "codemirror_mode": {
        "name": "ipython",
        "version": 3
      },
      "pygments_lexer": "ipython3",
      "nbconvert_exporter": "python",
      "file_extension": ".py"
    },
    "kernel_info": {
      "name": "python3"
    },
    "nteract": {
      "version": "0.12.3"
    }
  },
  "nbformat": 4,
  "nbformat_minor": 2
}